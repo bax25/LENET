{
 "cells": [
  {
   "cell_type": "code",
   "execution_count": 89,
   "id": "08836749-42f5-45a9-bf7c-880600426073",
   "metadata": {},
   "outputs": [],
   "source": [
    "import torch\n",
    "from torch.nn import Module\n",
    "from PIL import Image\n",
    "from torch import nn\n",
    "import numpy as np\n",
    "from torchvision.datasets import mnist\n",
    "from torch.nn import CrossEntropyLoss\n",
    "from torch.optim import SGD\n",
    "from torch.utils.data import DataLoader\n",
    "from torchvision.transforms import ToTensor"
   ]
  },
  {
   "cell_type": "code",
   "execution_count": 90,
   "id": "15a09268-00ec-4a9b-a5c7-6aff5038cc9e",
   "metadata": {},
   "outputs": [],
   "source": [
    "class Model(Module):\n",
    "    def __init__(self):\n",
    "        super(Model, self).__init__()\n",
    "        self.conv1 = nn.Conv2d(1, 6, 5)\n",
    "        self.relu1 = nn.ReLU()\n",
    "        self.pool1 = nn.MaxPool2d(2)\n",
    "        self.conv2 = nn.Conv2d(6, 16, 5)\n",
    "        self.relu2 = nn.ReLU()\n",
    "        self.pool2 = nn.MaxPool2d(2)\n",
    "        self.fc1 = nn.Linear(256, 120)\n",
    "        self.relu3 = nn.ReLU()\n",
    "        self.fc2 = nn.Linear(120, 84)\n",
    "        self.relu4 = nn.ReLU()\n",
    "        self.fc3 = nn.Linear(84, 10)\n",
    "        self.relu5 = nn.ReLU()\n",
    "        \n",
    "    def forward(self, x):\n",
    "        y = self.conv1(x)\n",
    "        y = self.relu1(y)\n",
    "        y = self.pool1(y)\n",
    "        y = self.conv2(y)\n",
    "        y = self.relu2(y)\n",
    "        y = self.pool2(y)\n",
    "        y = y.view(y.shape[0], -1)\n",
    "        y = self.fc1(y)\n",
    "        y = self.relu3(y)\n",
    "        y = self.fc2(y)\n",
    "        y = self.relu4(y)\n",
    "        y = self.fc3(y)\n",
    "        y = self.relu5(y)\n",
    "\n",
    "        return y"
   ]
  },
  {
   "cell_type": "code",
   "execution_count": 91,
   "id": "0d7f4c8d",
   "metadata": {},
   "outputs": [],
   "source": [
    "model = Model()"
   ]
  },
  {
   "cell_type": "code",
   "execution_count": 94,
   "id": "51497740-2da8-4a46-be51-274748f2d666",
   "metadata": {},
   "outputs": [],
   "source": [
    "def train():\n",
    "    device = torch.device('cuda' if torch.cuda.is_available() else 'cpu')\n",
    "    print(f\"Running on {device}\")\n",
    "    batch_size = 256\n",
    "    train_dataset = mnist.MNIST(root='data/train', train=True, transform=ToTensor(), download=True)\n",
    "    test_dataset = mnist.MNIST(root='data/test', train=False, transform=ToTensor(), download=True)\n",
    "    train_loader = DataLoader(train_dataset, batch_size=batch_size)\n",
    "    test_loader = DataLoader(test_dataset, batch_size=batch_size)\n",
    "    LeNet = model.to(device)\n",
    "    sgd = SGD(LeNet.parameters(), lr=1e-1)\n",
    "    loss_fn = CrossEntropyLoss()\n",
    "    epoch = 20\n",
    "    prev_acc = 0\n",
    "    \n",
    "    for cur_epoch in range(epoch):\n",
    "        LeNet.train()\n",
    "        for idx, (train_x, train_label) in enumerate(train_loader):\n",
    "            train_x = train_x.to(device)\n",
    "            train_label = train_label.to(device)\n",
    "            sgd.zero_grad()\n",
    "            predict_y = LeNet(train_x.float())\n",
    "            loss = loss_fn(predict_y, train_label.long())\n",
    "            loss.backward()\n",
    "            sgd.step()\n",
    "        \n",
    "        all_correct_num = 0\n",
    "        all_sample_num = 0\n",
    "        LeNet.eval()\n",
    "        \n",
    "        for idx, (test_x, test_label) in enumerate(test_loader):\n",
    "            test_x = test_x.to(device)\n",
    "            test_label = test_label.to(device)\n",
    "            predict_y = LeNet(test_x.float()).detach()\n",
    "            predict_y = torch.argmax(predict_y, dim=-1)\n",
    "            current_correct_num = predict_y == test_label\n",
    "            all_correct_num += np.sum(current_correct_num.to('cpu').numpy(), axis=-1)\n",
    "            all_sample_num += current_correct_num.shape[0]\n",
    "        acc = all_correct_num/all_sample_num\n",
    "        print(f\"Epoch: {cur_epoch}\\tAccuracy: {acc}\\tLoss: {loss}\")\n",
    "        \n",
    "        if np.abs(acc - prev_acc)< 1e-4:\n",
    "            break\n",
    "        prev_acc = acc\n",
    "        "
   ]
  },
  {
   "cell_type": "code",
   "execution_count": 95,
   "id": "4004bee6-aa99-4dc6-aece-781508e30992",
   "metadata": {},
   "outputs": [
    {
     "name": "stdout",
     "output_type": "stream",
     "text": [
      "Running on cuda\n",
      "Epoch: 0\tAccuracy: 0.8591\tLoss: 0.4663788378238678\n",
      "Epoch: 1\tAccuracy: 0.9661\tLoss: 0.19467996060848236\n",
      "Epoch: 2\tAccuracy: 0.9742\tLoss: 0.17733533680438995\n",
      "Epoch: 3\tAccuracy: 0.9776\tLoss: 0.16273649036884308\n",
      "Epoch: 4\tAccuracy: 0.9789\tLoss: 0.15471391379833221\n",
      "Epoch: 5\tAccuracy: 0.9802\tLoss: 0.14941798150539398\n",
      "Epoch: 6\tAccuracy: 0.9774\tLoss: 0.1411147564649582\n",
      "Epoch: 7\tAccuracy: 0.9789\tLoss: 0.13949540257453918\n",
      "Epoch: 8\tAccuracy: 0.98\tLoss: 0.1371331810951233\n",
      "Epoch: 9\tAccuracy: 0.9808\tLoss: 0.13482840359210968\n",
      "Epoch: 10\tAccuracy: 0.9816\tLoss: 0.13215021789073944\n",
      "Epoch: 11\tAccuracy: 0.9806\tLoss: 0.130820631980896\n",
      "Epoch: 12\tAccuracy: 0.9818\tLoss: 0.12964124977588654\n",
      "Epoch: 13\tAccuracy: 0.9818\tLoss: 0.128016397356987\n"
     ]
    }
   ],
   "source": [
    "train()"
   ]
  },
  {
   "cell_type": "code",
   "execution_count": 96,
   "id": "b5a5c750",
   "metadata": {},
   "outputs": [
    {
     "name": "stdout",
     "output_type": "stream",
     "text": [
      "tensor(9, device='cuda:0')\n"
     ]
    }
   ],
   "source": [
    "img = Image.open('data/img_3.jpg') \n",
    "img_tensor = ToTensor()(img).unsqueeze(0).to('cuda')\n",
    "\n",
    "print(torch.argmax(model(img_tensor)))"
   ]
  },
  {
   "cell_type": "code",
   "execution_count": null,
   "id": "7d560887",
   "metadata": {},
   "outputs": [],
   "source": []
  }
 ],
 "metadata": {
  "kernelspec": {
   "display_name": "torch-gpu",
   "language": "python",
   "name": "python3"
  },
  "language_info": {
   "codemirror_mode": {
    "name": "ipython",
    "version": 3
   },
   "file_extension": ".py",
   "mimetype": "text/x-python",
   "name": "python",
   "nbconvert_exporter": "python",
   "pygments_lexer": "ipython3",
   "version": "3.11.4"
  }
 },
 "nbformat": 4,
 "nbformat_minor": 5
}
