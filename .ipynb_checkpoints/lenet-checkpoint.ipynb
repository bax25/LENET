{
 "cells": [
  {
   "cell_type": "code",
   "execution_count": 1,
   "id": "08836749-42f5-45a9-bf7c-880600426073",
   "metadata": {},
   "outputs": [],
   "source": [
    "import torch\n",
    "from torch.nn import Module\n",
    "from torch import nn\n",
    "import numpy as np\n",
    "import os\n",
    "from torchvision.datasets import mnist\n",
    "from torch.nn import CrossEntropyLoss\n",
    "from torch.optim import SGD\n",
    "from torch.utils.data import DataLoader\n",
    "from torchvision.transforms import ToTensor"
   ]
  },
  {
   "cell_type": "code",
   "execution_count": 2,
   "id": "15a09268-00ec-4a9b-a5c7-6aff5038cc9e",
   "metadata": {},
   "outputs": [],
   "source": [
    "class Model(Module):\n",
    "    def __init__(self):\n",
    "        super(Model, self).__init__()\n",
    "        self.conv1 = nn.Conv2d(1, 6, 5)\n",
    "        self.relu1 = nn.ReLU()\n",
    "        self.pool1 = nn.MaxPool2d(2)\n",
    "        self.conv2 = nn.Conv2d(6, 16, 5)\n",
    "        self.relu2 = nn.ReLU()\n",
    "        self.pool2 = nn.MaxPool2d(2)\n",
    "        self.fc1 = nn.Linear(256, 120)\n",
    "        self.relu3 = nn.ReLU()\n",
    "        self.fc2 = nn.Linear(120, 84)\n",
    "        self.relu4 = nn.ReLU()\n",
    "        self.fc3 = nn.Linear(84, 10)\n",
    "        self.relu5 = nn.ReLU()\n",
    "        \n",
    "    def forward(self, x):\n",
    "        y = self.conv1(x)\n",
    "        y = self.relu1(y)\n",
    "        y = self.pool1(y)\n",
    "        y = self.conv2(y)\n",
    "        y = self.relu2(y)\n",
    "        y = self.pool2(y)\n",
    "        y = y.view(y.shape[0], -1)\n",
    "        y = self.fc1(y)\n",
    "        y = self.relu3(y)\n",
    "        y = self.fc2(y)\n",
    "        y = self.relu4(y)\n",
    "        y = self.fc3(y)\n",
    "        y = self.relu5(y)\n",
    "        return y"
   ]
  },
  {
   "cell_type": "code",
   "execution_count": 3,
   "id": "5d9e8e7f-85e8-4e2e-a559-62c30b6ace3c",
   "metadata": {},
   "outputs": [],
   "source": [
    "model = Model()"
   ]
  },
  {
   "cell_type": "code",
   "execution_count": 4,
   "id": "51497740-2da8-4a46-be51-274748f2d666",
   "metadata": {},
   "outputs": [],
   "source": [
    "def train():\n",
    "    device = 'cuda' if torch.cuda.is_available() else 'cpu'\n",
    "    print(device)\n",
    "    batch_size = 256\n",
    "    train_dataset = mnist.MNIST(root='./train', train=True, transform=ToTensor(), download=True)\n",
    "    test_dataset = mnist.MNIST(root='./test', train=False, transform=ToTensor(), download=True)\n",
    "    train_loader = DataLoader(train_dataset, batch_size=batch_size)\n",
    "    test_loader = DataLoader(test_dataset, batch_size=batch_size)\n",
    "    LeNet = model.to(device)\n",
    "    sgd = SGD(LeNet.parameters(), lr=1e-1)\n",
    "    loss_fn = CrossEntropyLoss()\n",
    "    epoch = 20\n",
    "    prev_acc = 0\n",
    "    \n",
    "    for cur_epoch in range(epoch):\n",
    "        LeNet.train()\n",
    "        for idx, (train_x, train_label) in enumerate(train_loader):\n",
    "            train_x = train_x.to(device)\n",
    "            train_label = train_label.to(device)\n",
    "            sgd.zero_grad()\n",
    "            predict_y = LeNet(train_x.float())\n",
    "            loss = loss_fn(predict_y, train_label.long())\n",
    "            loss.backward()\n",
    "            sgd.step()\n",
    "        \n",
    "        all_correct_num = 0\n",
    "        all_sample_num = 0\n",
    "        LeNet.eval()\n",
    "        \n",
    "        for idx, (test_x, test_label) in enumerate(test_loader):\n",
    "            test_x = test_x.to(device)\n",
    "            test_label = test_label.to(device)\n",
    "            predict_y = LeNet(test_x.float()).detach()\n",
    "            predict_y = torch.argmax(predict_y, dim=-1)\n",
    "            current_correct_num = predict_y == test_label\n",
    "            all_correct_num += np.sum(current_correct_num.to('cpu').numpy(), axis=-1)\n",
    "            all_sample_num += current_correct_num.shape[0]\n",
    "        acc = all_correct_num/all_sample_num\n",
    "        print(f\"Accuracy : {acc}\")\n",
    "        \n",
    "        if np.abs(acc - prev_acc)< 1e-4:\n",
    "            break\n",
    "        prev_acc = acc"
   ]
  },
  {
   "cell_type": "code",
   "execution_count": 6,
   "id": "4004bee6-aa99-4dc6-aece-781508e30992",
   "metadata": {},
   "outputs": [
    {
     "name": "stdout",
     "output_type": "stream",
     "text": [
      "cuda\n",
      "Accuracy : 0.7973\n",
      "Accuracy : 0.7977\n",
      "Accuracy : 0.7978\n"
     ]
    }
   ],
   "source": [
    "train()"
   ]
  },
  {
   "cell_type": "code",
   "execution_count": null,
   "id": "aedc7613",
   "metadata": {},
   "outputs": [],
   "source": []
  }
 ],
 "metadata": {
  "kernelspec": {
   "display_name": "Python [conda env:torch-gpu]",
   "language": "python",
   "name": "conda-env-torch-gpu-py"
  },
  "language_info": {
   "codemirror_mode": {
    "name": "ipython",
    "version": 3
   },
   "file_extension": ".py",
   "mimetype": "text/x-python",
   "name": "python",
   "nbconvert_exporter": "python",
   "pygments_lexer": "ipython3",
   "version": "3.11.4"
  }
 },
 "nbformat": 4,
 "nbformat_minor": 5
}
