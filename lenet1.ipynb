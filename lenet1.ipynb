{
 "cells": [
  {
   "cell_type": "code",
   "execution_count": 21,
   "id": "08836749-42f5-45a9-bf7c-880600426073",
   "metadata": {},
   "outputs": [],
   "source": [
    "import torch\n",
    "import torch.nn as nn\n",
    "import torchvision\n",
    "import torchvision.transforms as transforms"
   ]
  },
  {
   "cell_type": "code",
   "execution_count": 22,
   "id": "cc361d65",
   "metadata": {},
   "outputs": [],
   "source": [
    "batch_size = 64\n",
    "num_classes = 10\n",
    "learning_rate = 0.001\n",
    "num_epochs = 10\n",
    "\n",
    "device = torch.device('cuda' if torch.cuda.is_available() else 'cpu')"
   ]
  },
  {
   "cell_type": "code",
   "execution_count": 23,
   "id": "ff8a069d",
   "metadata": {},
   "outputs": [],
   "source": [
    "def dataset():\n",
    "    train_dataset = torchvision.datasets.MNIST(root='data/train', train=True, transform=transforms.Compose([transforms.Resize((32,32)),transforms.ToTensor()]), download=True)\n",
    "    test_dataset = torchvision.datasets.MNIST(root='data/train', train=False, transform=transforms.Compose([transforms.Resize((32,32)),transforms.ToTensor()]), download=True)\n",
    "    train_loader = torch.utils.data.DataLoader(train_dataset, batch_size=batch_size, shuffle = True)\n",
    "    test_loader = torch.utils.data.DataLoader(test_dataset, batch_size=batch_size, shuffle = True)\n",
    "    return train_loader, test_loader"
   ]
  },
  {
   "cell_type": "code",
   "execution_count": 24,
   "id": "15a09268-00ec-4a9b-a5c7-6aff5038cc9e",
   "metadata": {},
   "outputs": [],
   "source": [
    "class LeNet5(nn.Module):\n",
    "    def __init__(self, num_classes):\n",
    "        super(LeNet5, self).__init__()\n",
    "        self.layer1 = nn.Sequential(\n",
    "            nn.Conv2d(1, 6, kernel_size=5, stride=1, padding=0),\n",
    "            nn.BatchNorm2d(6),\n",
    "            nn.ReLU(),\n",
    "            nn.MaxPool2d(kernel_size = 2, stride = 2))\n",
    "        self.layer2 = nn.Sequential(\n",
    "            nn.Conv2d(6, 16, kernel_size=5, stride=1, padding=0),\n",
    "            nn.BatchNorm2d(16),\n",
    "            nn.ReLU(),\n",
    "            nn.MaxPool2d(kernel_size = 2, stride = 2))\n",
    "        self.fc = nn.Linear(400, 120)\n",
    "        self.relu = nn.ReLU()\n",
    "        self.fc1 = nn.Linear(120, 84)\n",
    "        self.relu1 = nn.ReLU()\n",
    "        self.fc2 = nn.Linear(84, num_classes)\n",
    "        \n",
    "    def forward(self, x):\n",
    "        out = self.layer1(x)\n",
    "        out = self.layer2(out)\n",
    "        out = out.reshape(out.size(0), -1)\n",
    "        out = self.fc(out)\n",
    "        out = self.relu(out)\n",
    "        out = self.fc1(out)\n",
    "        out = self.relu1(out)\n",
    "        out = self.fc2(out)\n",
    "        return out"
   ]
  },
  {
   "cell_type": "code",
   "execution_count": 25,
   "id": "5d9e8e7f-85e8-4e2e-a559-62c30b6ace3c",
   "metadata": {},
   "outputs": [],
   "source": [
    "model = LeNet5(num_classes).to(device)\n",
    "\n",
    "#Setting the loss function\n",
    "cost = nn.CrossEntropyLoss()\n",
    "\n",
    "#Setting the optimizer with the model parameters and learning rate\n",
    "optimizer = torch.optim.Adam(model.parameters(), lr=learning_rate)\n"
   ]
  },
  {
   "cell_type": "code",
   "execution_count": 26,
   "id": "51497740-2da8-4a46-be51-274748f2d666",
   "metadata": {},
   "outputs": [],
   "source": [
    "def train():\n",
    "\n",
    "    print(f\"Running on {device}\")\n",
    "    train_loader, test_loader = dataset()\n",
    "    total_step = len(train_loader)\n",
    "    for epoch in range(num_epochs):\n",
    "        for i, (images, labels) in enumerate(train_loader):  \n",
    "            images = images.to(device)\n",
    "            labels = labels.to(device)\n",
    "            \n",
    "            #Forward pass\n",
    "            outputs = model(images)\n",
    "            loss = cost(outputs, labels)\n",
    "                \n",
    "            # Backward and optimize\n",
    "            optimizer.zero_grad()\n",
    "            loss.backward()\n",
    "            optimizer.step()\n",
    "                    \n",
    "            if (i+1) % 400 == 0:\n",
    "                print ('Epoch [{}/{}], Step [{}/{}], Loss: {:.4f}' \n",
    "                            .format(epoch+1, num_epochs, i+1, total_step, loss.item()))\n"
   ]
  },
  {
   "cell_type": "code",
   "execution_count": 27,
   "id": "4004bee6-aa99-4dc6-aece-781508e30992",
   "metadata": {},
   "outputs": [
    {
     "name": "stdout",
     "output_type": "stream",
     "text": [
      "Running on cuda\n",
      "Epoch [1/10], Step [400/938], Loss: 0.1549\n",
      "Epoch [1/10], Step [800/938], Loss: 0.0615\n",
      "Epoch [2/10], Step [400/938], Loss: 0.0197\n",
      "Epoch [2/10], Step [800/938], Loss: 0.0286\n",
      "Epoch [3/10], Step [400/938], Loss: 0.0364\n",
      "Epoch [3/10], Step [800/938], Loss: 0.1566\n",
      "Epoch [4/10], Step [400/938], Loss: 0.2407\n",
      "Epoch [4/10], Step [800/938], Loss: 0.0366\n",
      "Epoch [5/10], Step [400/938], Loss: 0.0028\n",
      "Epoch [5/10], Step [800/938], Loss: 0.0080\n",
      "Epoch [6/10], Step [400/938], Loss: 0.0014\n",
      "Epoch [6/10], Step [800/938], Loss: 0.0038\n",
      "Epoch [7/10], Step [400/938], Loss: 0.0015\n",
      "Epoch [7/10], Step [800/938], Loss: 0.0025\n",
      "Epoch [8/10], Step [400/938], Loss: 0.0242\n",
      "Epoch [8/10], Step [800/938], Loss: 0.0007\n",
      "Epoch [9/10], Step [400/938], Loss: 0.0032\n",
      "Epoch [9/10], Step [800/938], Loss: 0.0166\n",
      "Epoch [10/10], Step [400/938], Loss: 0.0007\n",
      "Epoch [10/10], Step [800/938], Loss: 0.0007\n"
     ]
    }
   ],
   "source": [
    "train()"
   ]
  },
  {
   "cell_type": "code",
   "execution_count": 28,
   "id": "7d560887",
   "metadata": {},
   "outputs": [
    {
     "name": "stdout",
     "output_type": "stream",
     "text": [
      "Accuracy of the network on the 10000 test images: 99.14 %\n"
     ]
    }
   ],
   "source": [
    "with torch.no_grad():\n",
    "    train_loader, test_loader = dataset()\n",
    "    correct = 0\n",
    "    total = 0\n",
    "    for images, labels in test_loader:\n",
    "        images = images.to(device)\n",
    "        labels = labels.to(device)\n",
    "        outputs = model(images)\n",
    "        _, predicted = torch.max(outputs.data, 1)\n",
    "        total += labels.size(0)\n",
    "        correct += (predicted == labels).sum().item()\n",
    "\n",
    "    print('Accuracy of the network on the 10000 test images: {} %'.format(100 * correct / total))"
   ]
  },
  {
   "cell_type": "code",
   "execution_count": null,
   "id": "ab21c266",
   "metadata": {},
   "outputs": [],
   "source": []
  }
 ],
 "metadata": {
  "kernelspec": {
   "display_name": "torch-gpu",
   "language": "python",
   "name": "python3"
  },
  "language_info": {
   "codemirror_mode": {
    "name": "ipython",
    "version": 3
   },
   "file_extension": ".py",
   "mimetype": "text/x-python",
   "name": "python",
   "nbconvert_exporter": "python",
   "pygments_lexer": "ipython3",
   "version": "3.11.4"
  }
 },
 "nbformat": 4,
 "nbformat_minor": 5
}
